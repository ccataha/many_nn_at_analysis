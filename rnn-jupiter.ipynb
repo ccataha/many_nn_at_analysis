{
 "cells": [
  {
   "cell_type": "code",
   "execution_count": 10,
   "metadata": {},
   "outputs": [],
   "source": [
    "# Library to create rnn model\n",
    "import tensorflow as tf\n",
    "from tensorflow import keras\n",
    "from tensorflow.keras import layers\n",
    "# Library to read excel data\n",
    "import pandas as pd \n",
    "# Class to transformate data\n",
    "import controller.transformation as trans\n",
    "import controller.normalization as norm\n",
    "import numpy as np"
   ]
  },
  {
   "cell_type": "code",
   "execution_count": 11,
   "metadata": {},
   "outputs": [],
   "source": [
    "# Read csv data\n",
    "dirpath = \"data/\"\n",
    "filename = \"kddcup99_csv.csv\"\n",
    "kddCup = pd.read_csv(dirpath+filename)"
   ]
  },
  {
   "cell_type": "code",
   "execution_count": 12,
   "metadata": {},
   "outputs": [
    {
     "name": "stdout",
     "output_type": "stream",
     "text": [
      "296412\n"
     ]
    }
   ],
   "source": [
    "# Suffle data\n",
    "kddCup = kddCup.sample(frac=1)\n",
    "# Split data in 60% 20% 20%\n",
    "trainingData, validateData, testData = np.split(kddCup.sample(frac=1), [int(.6*len(kddCup)), int(.8*len(kddCup))])\n",
    "# Suffle data\n",
    "trainingData = trainingData.sample(frac=1)\n",
    "validateData = validateData.sample(frac=1)\n",
    "testData = testData.sample(frac=1)\n",
    "print(len(trainingData))"
   ]
  },
  {
   "cell_type": "code",
   "execution_count": 13,
   "metadata": {},
   "outputs": [],
   "source": [
    "def transformData(kddCup):\n",
    "    # Transform Text data to number\n",
    "    protocolTypeLabel = {'icmp': 0, 'tcp': 1, 'udp': 2}\n",
    "    kddCup[\"protocol_type\"] = transformColumn(kddCup[\"protocol_type\"],protocolTypeLabel,0)\n",
    "    # print(kddCup[\"protocol_type\"])\n",
    "    flagLabel = {'OTH': 0, 'REJ': 1, 'RSTO': 2, 'RSTOS0': 3, 'RSTR': 4, 'S0': 5, 'S1': 6, 'S2': 7, 'S3': 8, 'SF': 9, 'SH': 10}\n",
    "    kddCup[\"flag\"] = transformColumn(kddCup[\"flag\"],flagLabel,0)\n",
    "    # print(kddCup[\"flag\"])\n",
    "    transformLabel = {'normal': 0}\n",
    "    kddCup[\"label\"] = transformColumn(kddCup[\"label\"],transformLabel,1)\n",
    "    # print(kddCup[\"label\"])\n",
    "    return kddCup\n",
    "\n",
    "\n",
    "def transformColumn(column, array, default):\n",
    "    rows = list(set(column.tolist()))\n",
    "    for row in rows:\n",
    "        try:\n",
    "            column = column.replace([row],array[row])\n",
    "        except KeyError:\n",
    "            column = column.replace([row],default)\n",
    "    return column"
   ]
  },
  {
   "cell_type": "code",
   "execution_count": 14,
   "metadata": {},
   "outputs": [],
   "source": [
    "def normalizeColumn(data):\n",
    "    arrayData = np.array(data)\n",
    "    normalizedData = preprocessing.normalize(arrayData)\n",
    "    return normalizedData"
   ]
  },
  {
   "cell_type": "code",
   "execution_count": 15,
   "metadata": {},
   "outputs": [
    {
     "name": "stdout",
     "output_type": "stream",
     "text": [
      "296412\n",
      "296412\n"
     ]
    }
   ],
   "source": [
    "# Transform text to number\n",
    "trainingData = transformData(trainingData)\n",
    "# Split and remove columns\n",
    "kddCupY = trainingData[\"label\"]\n",
    "kddCupX = trainingData\n",
    "kddCupX.pop(\"label\")\n",
    "kddCupX.pop(\"service\")\n",
    "# Normalize data\n",
    "normalizeTrainingDataX = norm.normalizeColumn(kddCupX)\n",
    "arrayTrainingDataY = np.array(kddCupY)\n",
    "# Reshape\n",
    "normalizeTrainingDataX = normalizeTrainingDataX.reshape((normalizeTrainingDataX.shape[0],normalizeTrainingDataX.shape[1],-1))"
   ]
  },
  {
   "cell_type": "code",
   "execution_count": 19,
   "metadata": {},
   "outputs": [],
   "source": [
    "# Define new Model for rnn\n",
    "model = tf.keras.models.Sequential()\n",
    "# Adding model type\n",
    "model.add(tf.keras.layers.SimpleRNN(8))\n",
    "# Adding Hidden Layers\n",
    "model.add(tf.keras.layers.Dense(units=3,activation='sigmoid'))\n",
    "model.add(tf.keras.layers.Dense(units=5,activation='sigmoid'))\n",
    "model.add(tf.keras.layers.Dense(units=8,activation='sigmoid'))\n",
    "# Adding output layer\n",
    "model.add(tf.keras.layers.Dense(units=2,activation='sigmoid'))\n",
    "\n",
    "model.compile(optimizer=tf.keras.optimizers.Nadam(learning_rate=0.001),\n",
    "                  loss=tf.keras.losses.mean_squared_error,\n",
    "                  metrics=['accuracy'])\n",
    "epochs = 3"
   ]
  },
  {
   "cell_type": "code",
   "execution_count": 20,
   "metadata": {},
   "outputs": [
    {
     "name": "stdout",
     "output_type": "stream",
     "text": [
      "Epoch 1/3\n",
      "11857/11857 [==============================] - 73s 6ms/step - loss: 0.0342 - accuracy: 0.9173\n",
      "Epoch 2/3\n",
      "11857/11857 [==============================] - 67s 6ms/step - loss: 0.0184 - accuracy: 0.8033\n",
      "Epoch 3/3\n",
      "11857/11857 [==============================] - 88s 7ms/step - loss: 0.0211 - accuracy: 0.8042\n"
     ]
    },
    {
     "data": {
      "text/plain": [
       "<tensorflow.python.keras.callbacks.History at 0x7ffc7a90f490>"
      ]
     },
     "execution_count": 20,
     "metadata": {},
     "output_type": "execute_result"
    }
   ],
   "source": [
    "# Train Model\n",
    "model.fit(normalizeTrainingDataX,arrayTrainingDataY,epochs=epochs,batch_size=25,shuffle=True)"
   ]
  },
  {
   "cell_type": "code",
   "execution_count": 18,
   "metadata": {},
   "outputs": [
    {
     "name": "stdout",
     "output_type": "stream",
     "text": [
      "\n",
      "\n",
      "Resultados en entrenamiento:\n",
      "[[0.9992075  0.9992574 ]\n",
      " [0.9992006  0.999251  ]\n",
      " [0.9977019  0.9978671 ]\n",
      " ...\n",
      " [0.9969489  0.9971672 ]\n",
      " [0.9977019  0.9978671 ]\n",
      " [0.99920905 0.9992589 ]]\n"
     ]
    }
   ],
   "source": [
    "print(\"\\n\\nResultados en entrenamiento:\")\n",
    "result = model.predict(normalizeTrainingDataX)\n",
    "# printStats(getStats(arrayTrainingDAtaY,result))\n",
    "print(result)"
   ]
  },
  {
   "cell_type": "code",
   "execution_count": 21,
   "metadata": {},
   "outputs": [
    {
     "name": "stdout",
     "output_type": "stream",
     "text": [
      "\n",
      "\n",
      "Resultados en validacion\n",
      "[[0.03506964 0.03541157]\n",
      " [0.98992264 0.99052525]\n",
      " [0.9904465  0.9910281 ]\n",
      " ...\n",
      " [0.9924753  0.99296975]\n",
      " [0.9924752  0.9929697 ]\n",
      " [0.9924752  0.9929697 ]]\n"
     ]
    }
   ],
   "source": [
    "# VALIDATE RESULT\n",
    "\n",
    "# Transform text to number\n",
    "validateData = trans.transformData(validateData)\n",
    "# Split and remove columns\n",
    "kddCupValidateY = validateData[\"label\"]\n",
    "kddCupValidateX = validateData\n",
    "kddCupValidateX.pop(\"label\")\n",
    "kddCupValidateX.pop(\"service\")\n",
    "# Normalize data\n",
    "normalizeValidateDataX = norm.normalizeColumn(kddCupValidateX)\n",
    "arrayValidateDataY = np.array(kddCupValidateY)\n",
    "# Reshape\n",
    "normalizeValidateDataX = normalizeValidateDataX.reshape((normalizeValidateDataX.shape[0],normalizeValidateDataX.shape[1],-1))\n",
    "\n",
    "print(\"\\n\\nResultados en validacion\")\n",
    "result = model.predict(normalizeValidateDataX)\n",
    "print(result)"
   ]
  },
  {
   "cell_type": "code",
   "execution_count": null,
   "metadata": {},
   "outputs": [],
   "source": []
  }
 ],
 "metadata": {
  "kernelspec": {
   "display_name": "Python 3",
   "language": "python",
   "name": "python3"
  },
  "language_info": {
   "codemirror_mode": {
    "name": "ipython",
    "version": 3
   },
   "file_extension": ".py",
   "mimetype": "text/x-python",
   "name": "python",
   "nbconvert_exporter": "python",
   "pygments_lexer": "ipython3",
   "version": "3.7.9"
  }
 },
 "nbformat": 4,
 "nbformat_minor": 4
}
